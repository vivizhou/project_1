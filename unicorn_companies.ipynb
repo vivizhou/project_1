{
 "cells": [
  {
   "cell_type": "code",
   "execution_count": 250,
   "id": "4ef4ecda",
   "metadata": {},
   "outputs": [],
   "source": [
    "import numpy as np\n",
    "import pandas as pd\n",
    "import matplotlib.pyplot as plt\n",
    "from sklearn.linear_model import LinearRegression\n",
    "from sklearn.model_selection import train_test_split\n",
    "from sklearn.metrics import r2_score, mean_squared_error\n",
    "import seaborn as sb\n"
   ]
  },
  {
   "cell_type": "markdown",
   "id": "b2dcce01",
   "metadata": {},
   "source": [
    "Content\n",
    "A unicorn company, or unicorn startup, is a private company with a valuation over \\\\$1 billion. As of March 2022, there are 1,000 unicorns around the world. Popular former unicorns include Airbnb, Facebook and Google. Variants include a decacorn, valued at over \\\\$10 billion, and a hectocorn, valued at over \\\\$100 billion. Download the full list today to see each company's valuation, investors, and more.\n",
    "The current data was downloaded from [Kaggle](https://www.kaggle.com/datasets/deepcontractor/unicorn-companies-dataset)."
   ]
  },
  {
   "cell_type": "code",
   "execution_count": 251,
   "id": "53244dc6",
   "metadata": {},
   "outputs": [],
   "source": [
    "unicorn = pd.read_csv('./data/Unicorn_Companies.csv')"
   ]
  },
  {
   "cell_type": "code",
   "execution_count": 252,
   "id": "bb51d8d6",
   "metadata": {},
   "outputs": [
    {
     "data": {
      "text/html": [
       "<div>\n",
       "<style scoped>\n",
       "    .dataframe tbody tr th:only-of-type {\n",
       "        vertical-align: middle;\n",
       "    }\n",
       "\n",
       "    .dataframe tbody tr th {\n",
       "        vertical-align: top;\n",
       "    }\n",
       "\n",
       "    .dataframe thead th {\n",
       "        text-align: right;\n",
       "    }\n",
       "</style>\n",
       "<table border=\"1\" class=\"dataframe\">\n",
       "  <thead>\n",
       "    <tr style=\"text-align: right;\">\n",
       "      <th></th>\n",
       "      <th>Company</th>\n",
       "      <th>Valuation ($B)</th>\n",
       "      <th>Date Joined</th>\n",
       "      <th>Country</th>\n",
       "      <th>City</th>\n",
       "      <th>Industry</th>\n",
       "      <th>Select Inverstors</th>\n",
       "      <th>Founded Year</th>\n",
       "      <th>Total Raised</th>\n",
       "      <th>Financial Stage</th>\n",
       "      <th>Investors Count</th>\n",
       "      <th>Deal Terms</th>\n",
       "      <th>Portfolio Exits</th>\n",
       "    </tr>\n",
       "  </thead>\n",
       "  <tbody>\n",
       "    <tr>\n",
       "      <th>0</th>\n",
       "      <td>Bytedance</td>\n",
       "      <td>$140</td>\n",
       "      <td>4/7/2017</td>\n",
       "      <td>China</td>\n",
       "      <td>Beijing</td>\n",
       "      <td>Artificial intelligence</td>\n",
       "      <td>Sequoia Capital China, SIG Asia Investments, S...</td>\n",
       "      <td>2012</td>\n",
       "      <td>$7.44B</td>\n",
       "      <td>IPO</td>\n",
       "      <td>28</td>\n",
       "      <td>8</td>\n",
       "      <td>5</td>\n",
       "    </tr>\n",
       "    <tr>\n",
       "      <th>1</th>\n",
       "      <td>SpaceX</td>\n",
       "      <td>$100.3</td>\n",
       "      <td>12/1/2012</td>\n",
       "      <td>United States</td>\n",
       "      <td>Hawthorne</td>\n",
       "      <td>Other</td>\n",
       "      <td>Founders Fund, Draper Fisher Jurvetson, Rothen...</td>\n",
       "      <td>2002</td>\n",
       "      <td>$6.874B</td>\n",
       "      <td>None</td>\n",
       "      <td>29</td>\n",
       "      <td>12</td>\n",
       "      <td>None</td>\n",
       "    </tr>\n",
       "    <tr>\n",
       "      <th>2</th>\n",
       "      <td>Stripe</td>\n",
       "      <td>$95</td>\n",
       "      <td>1/23/2014</td>\n",
       "      <td>United States</td>\n",
       "      <td>San Francisco</td>\n",
       "      <td>Fintech</td>\n",
       "      <td>Khosla Ventures, LowercaseCapital, capitalG</td>\n",
       "      <td>2010</td>\n",
       "      <td>$2.901B</td>\n",
       "      <td>Asset</td>\n",
       "      <td>39</td>\n",
       "      <td>12</td>\n",
       "      <td>1</td>\n",
       "    </tr>\n",
       "    <tr>\n",
       "      <th>3</th>\n",
       "      <td>Klarna</td>\n",
       "      <td>$45.6</td>\n",
       "      <td>12/12/2011</td>\n",
       "      <td>Sweden</td>\n",
       "      <td>Stockholm</td>\n",
       "      <td>Fintech</td>\n",
       "      <td>Institutional Venture Partners, Sequoia Capita...</td>\n",
       "      <td>2005</td>\n",
       "      <td>$3.472B</td>\n",
       "      <td>Acquired</td>\n",
       "      <td>56</td>\n",
       "      <td>13</td>\n",
       "      <td>1</td>\n",
       "    </tr>\n",
       "    <tr>\n",
       "      <th>4</th>\n",
       "      <td>Epic Games</td>\n",
       "      <td>$42</td>\n",
       "      <td>10/26/2018</td>\n",
       "      <td>United States</td>\n",
       "      <td>Cary</td>\n",
       "      <td>Other</td>\n",
       "      <td>Tencent Holdings, KKR, Smash Ventures</td>\n",
       "      <td>1991</td>\n",
       "      <td>$4.377B</td>\n",
       "      <td>Acquired</td>\n",
       "      <td>25</td>\n",
       "      <td>5</td>\n",
       "      <td>2</td>\n",
       "    </tr>\n",
       "  </tbody>\n",
       "</table>\n",
       "</div>"
      ],
      "text/plain": [
       "      Company Valuation ($B) Date Joined        Country           City  \\\n",
       "0   Bytedance           $140    4/7/2017          China        Beijing   \n",
       "1      SpaceX         $100.3   12/1/2012  United States      Hawthorne   \n",
       "2      Stripe            $95   1/23/2014  United States  San Francisco   \n",
       "3      Klarna          $45.6  12/12/2011         Sweden      Stockholm   \n",
       "4  Epic Games            $42  10/26/2018  United States           Cary   \n",
       "\n",
       "                  Industry                                  Select Inverstors  \\\n",
       "0  Artificial intelligence  Sequoia Capital China, SIG Asia Investments, S...   \n",
       "1                    Other  Founders Fund, Draper Fisher Jurvetson, Rothen...   \n",
       "2                  Fintech        Khosla Ventures, LowercaseCapital, capitalG   \n",
       "3                  Fintech  Institutional Venture Partners, Sequoia Capita...   \n",
       "4                    Other              Tencent Holdings, KKR, Smash Ventures   \n",
       "\n",
       "  Founded Year Total Raised Financial Stage Investors Count Deal Terms  \\\n",
       "0         2012       $7.44B             IPO              28          8   \n",
       "1         2002      $6.874B            None              29         12   \n",
       "2         2010      $2.901B           Asset              39         12   \n",
       "3         2005      $3.472B        Acquired              56         13   \n",
       "4         1991      $4.377B        Acquired              25          5   \n",
       "\n",
       "  Portfolio Exits  \n",
       "0               5  \n",
       "1            None  \n",
       "2               1  \n",
       "3               1  \n",
       "4               2  "
      ]
     },
     "execution_count": 252,
     "metadata": {},
     "output_type": "execute_result"
    }
   ],
   "source": [
    "unicorn.head()"
   ]
  },
  {
   "cell_type": "markdown",
   "id": "884775a3",
   "metadata": {},
   "source": [
    "## Data exploration"
   ]
  },
  {
   "cell_type": "code",
   "execution_count": 253,
   "id": "bca542c1",
   "metadata": {},
   "outputs": [
    {
     "data": {
      "image/png": "[encoded data removed]",
      "text/plain": [
       "<Figure size 432x288 with 1 Axes>"
      ]
     },
     "metadata": {
      "needs_background": "light"
     },
     "output_type": "display_data"
    }
   ],
   "source": [
    "sb.countplot(data = unicorn, x = 'Financial Stage')\n",
    "plt.xticks(rotation = 20);"
   ]
  },
  {
   "cell_type": "code",
   "execution_count": 254,
   "id": "b2c292bc",
   "metadata": {},
   "outputs": [
    {
     "data": {
      "text/plain": [
       "None           988\n",
       "Acquired        22\n",
       "Divestiture      8\n",
       "IPO              7\n",
       "Acq              7\n",
       "Take             1\n",
       "Asset            1\n",
       "Corporate        1\n",
       "Reverse          1\n",
       "Management       1\n",
       "Name: Financial Stage, dtype: int64"
      ]
     },
     "execution_count": 254,
     "metadata": {},
     "output_type": "execute_result"
    }
   ],
   "source": [
    "unicorn['Financial Stage'].value_counts()"
   ]
  },
  {
   "cell_type": "code",
   "execution_count": 255,
   "id": "c9270ab5",
   "metadata": {},
   "outputs": [
    {
     "data": {
      "text/plain": [
       "(1037, 13)"
      ]
     },
     "execution_count": 255,
     "metadata": {},
     "output_type": "execute_result"
    }
   ],
   "source": [
    "unicorn.shape"
   ]
  },
  {
   "cell_type": "code",
   "execution_count": 256,
   "id": "c0461956",
   "metadata": {},
   "outputs": [
    {
     "data": {
      "text/plain": [
       "Index(['Company', 'Valuation ($B)', 'Date Joined', 'Country', 'City',\n",
       "       'Industry', 'Select Inverstors', 'Founded Year', 'Total Raised',\n",
       "       'Financial Stage', 'Investors Count', 'Deal Terms', 'Portfolio Exits'],\n",
       "      dtype='object')"
      ]
     },
     "execution_count": 256,
     "metadata": {},
     "output_type": "execute_result"
    }
   ],
   "source": [
    "unicorn.columns"
   ]
  },
  {
   "cell_type": "code",
   "execution_count": 257,
   "id": "c4993eeb",
   "metadata": {},
   "outputs": [
    {
     "data": {
      "text/html": [
       "<div>\n",
       "<style scoped>\n",
       "    .dataframe tbody tr th:only-of-type {\n",
       "        vertical-align: middle;\n",
       "    }\n",
       "\n",
       "    .dataframe tbody tr th {\n",
       "        vertical-align: top;\n",
       "    }\n",
       "\n",
       "    .dataframe thead th {\n",
       "        text-align: right;\n",
       "    }\n",
       "</style>\n",
       "<table border=\"1\" class=\"dataframe\">\n",
       "  <thead>\n",
       "    <tr style=\"text-align: right;\">\n",
       "      <th></th>\n",
       "      <th>Company</th>\n",
       "      <th>Valuation ($B)</th>\n",
       "      <th>Date Joined</th>\n",
       "      <th>Country</th>\n",
       "      <th>City</th>\n",
       "      <th>Industry</th>\n",
       "      <th>Select Inverstors</th>\n",
       "      <th>Founded Year</th>\n",
       "      <th>Total Raised</th>\n",
       "      <th>Financial Stage</th>\n",
       "      <th>Investors Count</th>\n",
       "      <th>Deal Terms</th>\n",
       "      <th>Portfolio Exits</th>\n",
       "    </tr>\n",
       "  </thead>\n",
       "  <tbody>\n",
       "    <tr>\n",
       "      <th>count</th>\n",
       "      <td>1037</td>\n",
       "      <td>1037</td>\n",
       "      <td>1037</td>\n",
       "      <td>1037</td>\n",
       "      <td>1037</td>\n",
       "      <td>1037</td>\n",
       "      <td>1037</td>\n",
       "      <td>1037</td>\n",
       "      <td>1037</td>\n",
       "      <td>1037</td>\n",
       "      <td>1037</td>\n",
       "      <td>1037</td>\n",
       "      <td>1037</td>\n",
       "    </tr>\n",
       "    <tr>\n",
       "      <th>unique</th>\n",
       "      <td>1035</td>\n",
       "      <td>200</td>\n",
       "      <td>623</td>\n",
       "      <td>46</td>\n",
       "      <td>256</td>\n",
       "      <td>33</td>\n",
       "      <td>1006</td>\n",
       "      <td>37</td>\n",
       "      <td>914</td>\n",
       "      <td>10</td>\n",
       "      <td>54</td>\n",
       "      <td>16</td>\n",
       "      <td>5</td>\n",
       "    </tr>\n",
       "    <tr>\n",
       "      <th>top</th>\n",
       "      <td>Bolt</td>\n",
       "      <td>$1</td>\n",
       "      <td>7/13/2021</td>\n",
       "      <td>United States</td>\n",
       "      <td>San Francisco</td>\n",
       "      <td>Fintech</td>\n",
       "      <td>None</td>\n",
       "      <td>2015</td>\n",
       "      <td>None</td>\n",
       "      <td>None</td>\n",
       "      <td>10</td>\n",
       "      <td>1</td>\n",
       "      <td>None</td>\n",
       "    </tr>\n",
       "    <tr>\n",
       "      <th>freq</th>\n",
       "      <td>2</td>\n",
       "      <td>244</td>\n",
       "      <td>9</td>\n",
       "      <td>536</td>\n",
       "      <td>145</td>\n",
       "      <td>205</td>\n",
       "      <td>17</td>\n",
       "      <td>144</td>\n",
       "      <td>24</td>\n",
       "      <td>988</td>\n",
       "      <td>69</td>\n",
       "      <td>280</td>\n",
       "      <td>988</td>\n",
       "    </tr>\n",
       "  </tbody>\n",
       "</table>\n",
       "</div>"
      ],
      "text/plain": [
       "       Company Valuation ($B) Date Joined        Country           City  \\\n",
       "count     1037           1037        1037           1037           1037   \n",
       "unique    1035            200         623             46            256   \n",
       "top       Bolt             $1   7/13/2021  United States  San Francisco   \n",
       "freq         2            244           9            536            145   \n",
       "\n",
       "       Industry Select Inverstors Founded Year Total Raised Financial Stage  \\\n",
       "count      1037              1037         1037         1037            1037   \n",
       "unique       33              1006           37          914              10   \n",
       "top     Fintech              None         2015         None            None   \n",
       "freq        205                17          144           24             988   \n",
       "\n",
       "       Investors Count Deal Terms Portfolio Exits  \n",
       "count             1037       1037            1037  \n",
       "unique              54         16               5  \n",
       "top                 10          1            None  \n",
       "freq                69        280             988  "
      ]
     },
     "execution_count": 257,
     "metadata": {},
     "output_type": "execute_result"
    }
   ],
   "source": [
    "unicorn.describe()"
   ]
  },
  {
   "cell_type": "markdown",
   "id": "084c4282",
   "metadata": {},
   "source": [
    "## Data cleaning\n",
    "Part of data cleaning codes were borrowed from [Kaggle](https://www.kaggle.com/code/realmikebrew/basic-data-cleaning-and-eda), but I made some corrections to the codes."
   ]
  },
  {
   "cell_type": "code",
   "execution_count": 258,
   "id": "4c4b81c1",
   "metadata": {},
   "outputs": [
    {
     "data": {
      "text/plain": [
       "array(['IPO', 'None', 'Asset', 'Acquired', 'Acq', 'Divestiture', 'Take',\n",
       "       'Management', 'Reverse', 'Corporate'], dtype=object)"
      ]
     },
     "execution_count": 258,
     "metadata": {},
     "output_type": "execute_result"
    }
   ],
   "source": [
    "unicorn['Financial Stage'].unique()"
   ]
  },
  {
   "cell_type": "code",
   "execution_count": 259,
   "id": "1e5a1ef7",
   "metadata": {},
   "outputs": [],
   "source": [
    "unicorn['Year Joined'] = pd.DatetimeIndex(unicorn['Date Joined']).year"
   ]
  },
  {
   "cell_type": "code",
   "execution_count": 260,
   "id": "b088ace5",
   "metadata": {},
   "outputs": [],
   "source": [
    "# Fix simple spelling error\n",
    "unicorn = unicorn.rename(columns={'Select Inverstors': 'Select Investors'})"
   ]
  },
  {
   "cell_type": "code",
   "execution_count": 261,
   "id": "0c0ea9f0",
   "metadata": {},
   "outputs": [],
   "source": [
    "# Replace other spelling/input errors\n",
    "unicorn.replace({\n",
    "    'Artificial intelligence': 'Artificial Intelligence',\n",
    "    'Finttech': 'Fintech',\n",
    "    'United States,': 'United States',\n",
    "    'Indonesia,': 'Indonesia',\n",
    "}, inplace=True)"
   ]
  },
  {
   "cell_type": "code",
   "execution_count": 262,
   "id": "e29e226c",
   "metadata": {},
   "outputs": [],
   "source": [
    "# Get rid of $ symbol and convert string column to float\n",
    "unicorn['Valuation ($B)'] = unicorn['Valuation ($B)'].replace({'\\$': ''}, regex=True)\n",
    "unicorn['Valuation ($B)'] = unicorn['Valuation ($B)'].astype(float)"
   ]
  },
  {
   "cell_type": "code",
   "execution_count": 263,
   "id": "31796916",
   "metadata": {},
   "outputs": [],
   "source": [
    "# Also converting Investor Count will be helpful later\n",
    "# First, replace None values with 0\n",
    "unicorn['Investors Count'] = unicorn['Investors Count'].replace({'None': '0'}, regex=True)\n",
    "unicorn['Investors Count'] = unicorn['Investors Count'].astype(float)"
   ]
  },
  {
   "cell_type": "code",
   "execution_count": 264,
   "id": "0ffe5bc8",
   "metadata": {},
   "outputs": [
    {
     "data": {
      "text/plain": [
       "array(['8', '12', '13', '5', '4', '6', '3', '10', '9', '19', '1', '7',\n",
       "       '2', '11', 'None', '14'], dtype=object)"
      ]
     },
     "execution_count": 264,
     "metadata": {},
     "output_type": "execute_result"
    }
   ],
   "source": [
    "unicorn['Deal Terms'].unique()"
   ]
  },
  {
   "cell_type": "code",
   "execution_count": 265,
   "id": "fbb4ff98",
   "metadata": {},
   "outputs": [],
   "source": [
    "unicorn['Deal Terms'] =unicorn['Deal Terms'].replace({'None': '0'}, regex=True)\n",
    "unicorn['Deal Terms'] = unicorn['Deal Terms'].astype(float)"
   ]
  },
  {
   "cell_type": "code",
   "execution_count": 266,
   "id": "719067c3",
   "metadata": {},
   "outputs": [],
   "source": [
    "def transform_amount(cell):\n",
    "    if cell == 0:\n",
    "        transformed = cell\n",
    "    elif 'M' in cell:\n",
    "        transformed = cell.replace('M', '')\n",
    "        transformed = float(transformed) * 1000\n",
    "    elif 'B' in cell:\n",
    "        transformed = cell.replace('B', '')\n",
    "        transformed = float(transformed) * 1000000\n",
    "    elif 'K' in cell:\n",
    "        transformed = cell.replace('K', '')\n",
    "        transformed = float(transformed)\n",
    "    return(transformed)       "
   ]
  },
  {
   "cell_type": "code",
   "execution_count": 267,
   "id": "14861c62",
   "metadata": {},
   "outputs": [],
   "source": [
    "# Many characters need replaced in this column\n",
    "unicorn['Total Raised'] = unicorn['Total Raised'].replace({'\\$': ''}, regex=True)\n",
    "unicorn['Total Raised'] = unicorn['Total Raised'].replace({'None': 0}, regex=True)\n",
    "unicorn['Total Raised'] = unicorn['Total Raised'].apply(transform_amount)\n",
    "unicorn['Total Raised'] = unicorn['Total Raised'].astype(float)\n",
    "unicorn = unicorn.rename(columns={'Total Raised': 'Total Raised ($K)'})"
   ]
  },
  {
   "cell_type": "code",
   "execution_count": 268,
   "id": "13cbc858",
   "metadata": {},
   "outputs": [
    {
     "data": {
      "text/html": [
       "<div>\n",
       "<style scoped>\n",
       "    .dataframe tbody tr th:only-of-type {\n",
       "        vertical-align: middle;\n",
       "    }\n",
       "\n",
       "    .dataframe tbody tr th {\n",
       "        vertical-align: top;\n",
       "    }\n",
       "\n",
       "    .dataframe thead th {\n",
       "        text-align: right;\n",
       "    }\n",
       "</style>\n",
       "<table border=\"1\" class=\"dataframe\">\n",
       "  <thead>\n",
       "    <tr style=\"text-align: right;\">\n",
       "      <th></th>\n",
       "      <th>Company</th>\n",
       "      <th>Valuation ($B)</th>\n",
       "      <th>Date Joined</th>\n",
       "      <th>Country</th>\n",
       "      <th>City</th>\n",
       "      <th>Industry</th>\n",
       "      <th>Select Investors</th>\n",
       "      <th>Founded Year</th>\n",
       "      <th>Total Raised ($K)</th>\n",
       "      <th>Financial Stage</th>\n",
       "      <th>Investors Count</th>\n",
       "      <th>Deal Terms</th>\n",
       "      <th>Portfolio Exits</th>\n",
       "      <th>Year Joined</th>\n",
       "    </tr>\n",
       "  </thead>\n",
       "  <tbody>\n",
       "    <tr>\n",
       "      <th>0</th>\n",
       "      <td>Bytedance</td>\n",
       "      <td>140.0</td>\n",
       "      <td>4/7/2017</td>\n",
       "      <td>China</td>\n",
       "      <td>Beijing</td>\n",
       "      <td>Artificial Intelligence</td>\n",
       "      <td>Sequoia Capital China, SIG Asia Investments, S...</td>\n",
       "      <td>2012</td>\n",
       "      <td>7440000.0</td>\n",
       "      <td>IPO</td>\n",
       "      <td>28.0</td>\n",
       "      <td>8.0</td>\n",
       "      <td>5</td>\n",
       "      <td>2017</td>\n",
       "    </tr>\n",
       "    <tr>\n",
       "      <th>1</th>\n",
       "      <td>SpaceX</td>\n",
       "      <td>100.3</td>\n",
       "      <td>12/1/2012</td>\n",
       "      <td>United States</td>\n",
       "      <td>Hawthorne</td>\n",
       "      <td>Other</td>\n",
       "      <td>Founders Fund, Draper Fisher Jurvetson, Rothen...</td>\n",
       "      <td>2002</td>\n",
       "      <td>6874000.0</td>\n",
       "      <td>None</td>\n",
       "      <td>29.0</td>\n",
       "      <td>12.0</td>\n",
       "      <td>None</td>\n",
       "      <td>2012</td>\n",
       "    </tr>\n",
       "    <tr>\n",
       "      <th>2</th>\n",
       "      <td>Stripe</td>\n",
       "      <td>95.0</td>\n",
       "      <td>1/23/2014</td>\n",
       "      <td>United States</td>\n",
       "      <td>San Francisco</td>\n",
       "      <td>Fintech</td>\n",
       "      <td>Khosla Ventures, LowercaseCapital, capitalG</td>\n",
       "      <td>2010</td>\n",
       "      <td>2901000.0</td>\n",
       "      <td>Asset</td>\n",
       "      <td>39.0</td>\n",
       "      <td>12.0</td>\n",
       "      <td>1</td>\n",
       "      <td>2014</td>\n",
       "    </tr>\n",
       "    <tr>\n",
       "      <th>3</th>\n",
       "      <td>Klarna</td>\n",
       "      <td>45.6</td>\n",
       "      <td>12/12/2011</td>\n",
       "      <td>Sweden</td>\n",
       "      <td>Stockholm</td>\n",
       "      <td>Fintech</td>\n",
       "      <td>Institutional Venture Partners, Sequoia Capita...</td>\n",
       "      <td>2005</td>\n",
       "      <td>3472000.0</td>\n",
       "      <td>Acquired</td>\n",
       "      <td>56.0</td>\n",
       "      <td>13.0</td>\n",
       "      <td>1</td>\n",
       "      <td>2011</td>\n",
       "    </tr>\n",
       "    <tr>\n",
       "      <th>4</th>\n",
       "      <td>Epic Games</td>\n",
       "      <td>42.0</td>\n",
       "      <td>10/26/2018</td>\n",
       "      <td>United States</td>\n",
       "      <td>Cary</td>\n",
       "      <td>Other</td>\n",
       "      <td>Tencent Holdings, KKR, Smash Ventures</td>\n",
       "      <td>1991</td>\n",
       "      <td>4377000.0</td>\n",
       "      <td>Acquired</td>\n",
       "      <td>25.0</td>\n",
       "      <td>5.0</td>\n",
       "      <td>2</td>\n",
       "      <td>2018</td>\n",
       "    </tr>\n",
       "  </tbody>\n",
       "</table>\n",
       "</div>"
      ],
      "text/plain": [
       "      Company  Valuation ($B) Date Joined        Country           City  \\\n",
       "0   Bytedance           140.0    4/7/2017          China        Beijing   \n",
       "1      SpaceX           100.3   12/1/2012  United States      Hawthorne   \n",
       "2      Stripe            95.0   1/23/2014  United States  San Francisco   \n",
       "3      Klarna            45.6  12/12/2011         Sweden      Stockholm   \n",
       "4  Epic Games            42.0  10/26/2018  United States           Cary   \n",
       "\n",
       "                  Industry                                   Select Investors  \\\n",
       "0  Artificial Intelligence  Sequoia Capital China, SIG Asia Investments, S...   \n",
       "1                    Other  Founders Fund, Draper Fisher Jurvetson, Rothen...   \n",
       "2                  Fintech        Khosla Ventures, LowercaseCapital, capitalG   \n",
       "3                  Fintech  Institutional Venture Partners, Sequoia Capita...   \n",
       "4                    Other              Tencent Holdings, KKR, Smash Ventures   \n",
       "\n",
       "  Founded Year  Total Raised ($K) Financial Stage  Investors Count  \\\n",
       "0         2012          7440000.0             IPO             28.0   \n",
       "1         2002          6874000.0            None             29.0   \n",
       "2         2010          2901000.0           Asset             39.0   \n",
       "3         2005          3472000.0        Acquired             56.0   \n",
       "4         1991          4377000.0        Acquired             25.0   \n",
       "\n",
       "   Deal Terms Portfolio Exits  Year Joined  \n",
       "0         8.0               5         2017  \n",
       "1        12.0            None         2012  \n",
       "2        12.0               1         2014  \n",
       "3        13.0               1         2011  \n",
       "4         5.0               2         2018  "
      ]
     },
     "execution_count": 268,
     "metadata": {},
     "output_type": "execute_result"
    }
   ],
   "source": [
    "unicorn.head()"
   ]
  },
  {
   "cell_type": "code",
   "execution_count": 269,
   "id": "fdffde80",
   "metadata": {},
   "outputs": [
    {
     "data": {
      "text/plain": [
       "array(['Artificial Intelligence', 'Other', 'Fintech',\n",
       "       'Internet software & services',\n",
       "       'Supply chain, logistics, & delivery',\n",
       "       'Data management & analytics',\n",
       "       'Sequoia Capital, Thoma Bravo, Softbank',\n",
       "       'E-commerce & direct-to-consumer', 'Edtech', 'Hardware',\n",
       "       'Consumer & retail', 'Health', 'Auto & transportation',\n",
       "       'Cybersecurity', 'Mobile & telecommunications', 'Travel',\n",
       "       'Kuang-Chi',\n",
       "       'Tiger Global Management, Tiger Brokers, DCM Ventures',\n",
       "       'Jungle Ventures, Accel, Venture Highway',\n",
       "       'Vision Plus Capital, GSR Ventures, ZhenFund',\n",
       "       'Hopu Investment Management, Boyu Capital, DC Thomson Ventures',\n",
       "       '500 Global, Rakuten Ventures, Golden Gate Ventures',\n",
       "       'Sequoia Capital China, ING, Alibaba Entrepreneurs Fund',\n",
       "       'Sequoia Capital China, Shunwei Capital Partners, Qualgro',\n",
       "       'Dragonfly Captial, Qiming Venture Partners, DST Global',\n",
       "       'SingTel Innov8, Alpha JWC Ventures, Golden Gate Ventures',\n",
       "       'Mundi Ventures, Doqling Capital Partners, Activant Capital',\n",
       "       'Vertex Ventures SE Asia, Global Founders Capital, Visa Ventures',\n",
       "       'Andreessen Horowitz, DST Global, IDG Capital',\n",
       "       \"B Capital Group, Monk's Hill Ventures, Dynamic Parcel Distribution\",\n",
       "       'Temasek, Guggenheim Investments, Qatar Investment Authority'],\n",
       "      dtype=object)"
      ]
     },
     "execution_count": 269,
     "metadata": {},
     "output_type": "execute_result"
    }
   ],
   "source": [
    "# Many Cities and Industries are mistakenly swapped\n",
    "unicorn['Industry'].unique()"
   ]
  },
  {
   "cell_type": "code",
   "execution_count": 270,
   "id": "affe98b9",
   "metadata": {},
   "outputs": [
    {
     "data": {
      "text/plain": [
       "Fintech                                                               206\n",
       "Internet software & services                                          192\n",
       "E-commerce & direct-to-consumer                                       107\n",
       "Artificial Intelligence                                                78\n",
       "Health                                                                 69\n",
       "Supply chain, logistics, & delivery                                    57\n",
       "Other                                                                  56\n",
       "Cybersecurity                                                          49\n",
       "Data management & analytics                                            41\n",
       "Mobile & telecommunications                                            37\n",
       "Hardware                                                               33\n",
       "Auto & transportation                                                  29\n",
       "Edtech                                                                 28\n",
       "Consumer & retail                                                      25\n",
       "Travel                                                                 14\n",
       "Andreessen Horowitz, DST Global, IDG Capital                            1\n",
       "Vision Plus Capital, GSR Ventures, ZhenFund                             1\n",
       "Mundi Ventures, Doqling Capital Partners, Activant Capital              1\n",
       "Sequoia Capital China, ING, Alibaba Entrepreneurs Fund                  1\n",
       "B Capital Group, Monk's Hill Ventures, Dynamic Parcel Distribution      1\n",
       "Jungle Ventures, Accel, Venture Highway                                 1\n",
       "Hopu Investment Management, Boyu Capital, DC Thomson Ventures           1\n",
       "SingTel Innov8, Alpha JWC Ventures, Golden Gate Ventures                1\n",
       "Dragonfly Captial, Qiming Venture Partners, DST Global                  1\n",
       "Kuang-Chi                                                               1\n",
       "Tiger Global Management, Tiger Brokers, DCM Ventures                    1\n",
       "Sequoia Capital China, Shunwei Capital Partners, Qualgro                1\n",
       "Sequoia Capital, Thoma Bravo, Softbank                                  1\n",
       "Vertex Ventures SE Asia, Global Founders Capital, Visa Ventures         1\n",
       "500 Global, Rakuten Ventures, Golden Gate Ventures                      1\n",
       "Temasek, Guggenheim Investments, Qatar Investment Authority             1\n",
       "Name: Industry, dtype: int64"
      ]
     },
     "execution_count": 270,
     "metadata": {},
     "output_type": "execute_result"
    }
   ],
   "source": [
    "unicorn['Industry'].value_counts()"
   ]
  },
  {
   "cell_type": "code",
   "execution_count": 271,
   "id": "d004a179",
   "metadata": {},
   "outputs": [],
   "source": [
    "# Swap columns with invalid input\n",
    "industries = ['Artificial Intelligence', 'Other', 'Fintech',\n",
    "       'Internet software & services',\n",
    "       'Supply chain, logistics, & delivery',\n",
    "       'Data management & analytics', 'E-commerce & direct-to-consumer', 'Edtech', 'Hardware',\n",
    "       'Consumer & retail', 'Health', 'Auto & transportation',\n",
    "       'Cybersecurity', 'Mobile & telecommunications', 'Travel']"
   ]
  },
  {
   "cell_type": "code",
   "execution_count": 272,
   "id": "b94b2dec",
   "metadata": {},
   "outputs": [
    {
     "data": {
      "text/plain": [
       "San Francisco    145\n",
       "New York          96\n",
       "Beijing           63\n",
       "Shanghai          43\n",
       "London            33\n",
       "                ... \n",
       "Unterfoehring      1\n",
       "Petah Tikva        1\n",
       "Somerville         1\n",
       "Vilnius            1\n",
       "Eden Prairie       1\n",
       "Name: City, Length: 256, dtype: int64"
      ]
     },
     "execution_count": 272,
     "metadata": {},
     "output_type": "execute_result"
    }
   ],
   "source": [
    "unicorn['City'].value_counts()"
   ]
  },
  {
   "cell_type": "code",
   "execution_count": 273,
   "id": "f0df29c5",
   "metadata": {},
   "outputs": [],
   "source": [
    "unicorn['Industry'], unicorn['City'] = np.where(~unicorn['Industry'].isin(industries), (unicorn['City'],unicorn['Industry']), (unicorn['Industry'],unicorn['City']))\n"
   ]
  },
  {
   "cell_type": "code",
   "execution_count": 274,
   "id": "88d09afd",
   "metadata": {},
   "outputs": [
    {
     "data": {
      "text/plain": [
       "Fintech                                212\n",
       "Internet software & services           194\n",
       "E-commerce & direct-to-consumer        111\n",
       "Artificial Intelligence                 80\n",
       "Health                                  69\n",
       "Supply chain, logistics, & delivery     58\n",
       "Other                                   56\n",
       "Cybersecurity                           49\n",
       "Data management & analytics             41\n",
       "Mobile & telecommunications             38\n",
       "Hardware                                33\n",
       "Auto & transportation                   29\n",
       "Edtech                                  28\n",
       "Consumer & retail                       25\n",
       "Travel                                  14\n",
       "Name: Industry, dtype: int64"
      ]
     },
     "execution_count": 274,
     "metadata": {},
     "output_type": "execute_result"
    }
   ],
   "source": [
    "unicorn['Industry'].value_counts()"
   ]
  },
  {
   "cell_type": "code",
   "execution_count": 275,
   "id": "55dd5009",
   "metadata": {},
   "outputs": [
    {
     "data": {
      "text/plain": [
       "San Francisco    145\n",
       "New York          96\n",
       "Beijing           63\n",
       "Shanghai          43\n",
       "London            33\n",
       "                ... \n",
       "Wilmington         1\n",
       "Peterborough       1\n",
       "Unterfoehring      1\n",
       "Petah Tikva        1\n",
       "Eden Prairie       1\n",
       "Name: City, Length: 266, dtype: int64"
      ]
     },
     "execution_count": 275,
     "metadata": {},
     "output_type": "execute_result"
    }
   ],
   "source": [
    "unicorn['City'].value_counts()"
   ]
  },
  {
   "cell_type": "code",
   "execution_count": 276,
   "id": "a4200332",
   "metadata": {},
   "outputs": [
    {
     "data": {
      "text/html": [
       "<div>\n",
       "<style scoped>\n",
       "    .dataframe tbody tr th:only-of-type {\n",
       "        vertical-align: middle;\n",
       "    }\n",
       "\n",
       "    .dataframe tbody tr th {\n",
       "        vertical-align: top;\n",
       "    }\n",
       "\n",
       "    .dataframe thead th {\n",
       "        text-align: right;\n",
       "    }\n",
       "</style>\n",
       "<table border=\"1\" class=\"dataframe\">\n",
       "  <thead>\n",
       "    <tr style=\"text-align: right;\">\n",
       "      <th></th>\n",
       "      <th>Company</th>\n",
       "      <th>Valuation ($B)</th>\n",
       "      <th>Date Joined</th>\n",
       "      <th>Country</th>\n",
       "      <th>City</th>\n",
       "      <th>Industry</th>\n",
       "      <th>Select Investors</th>\n",
       "      <th>Founded Year</th>\n",
       "      <th>Total Raised ($K)</th>\n",
       "      <th>Financial Stage</th>\n",
       "      <th>Investors Count</th>\n",
       "      <th>Deal Terms</th>\n",
       "      <th>Portfolio Exits</th>\n",
       "      <th>Year Joined</th>\n",
       "    </tr>\n",
       "  </thead>\n",
       "  <tbody>\n",
       "    <tr>\n",
       "      <th>0</th>\n",
       "      <td>Bytedance</td>\n",
       "      <td>140.0</td>\n",
       "      <td>4/7/2017</td>\n",
       "      <td>China</td>\n",
       "      <td>Beijing</td>\n",
       "      <td>Artificial Intelligence</td>\n",
       "      <td>Sequoia Capital China, SIG Asia Investments, S...</td>\n",
       "      <td>2012</td>\n",
       "      <td>7440000.0</td>\n",
       "      <td>IPO</td>\n",
       "      <td>28.0</td>\n",
       "      <td>8.0</td>\n",
       "      <td>5</td>\n",
       "      <td>2017</td>\n",
       "    </tr>\n",
       "    <tr>\n",
       "      <th>1</th>\n",
       "      <td>SpaceX</td>\n",
       "      <td>100.3</td>\n",
       "      <td>12/1/2012</td>\n",
       "      <td>United States</td>\n",
       "      <td>Hawthorne</td>\n",
       "      <td>Other</td>\n",
       "      <td>Founders Fund, Draper Fisher Jurvetson, Rothen...</td>\n",
       "      <td>2002</td>\n",
       "      <td>6874000.0</td>\n",
       "      <td>None</td>\n",
       "      <td>29.0</td>\n",
       "      <td>12.0</td>\n",
       "      <td>None</td>\n",
       "      <td>2012</td>\n",
       "    </tr>\n",
       "    <tr>\n",
       "      <th>2</th>\n",
       "      <td>Stripe</td>\n",
       "      <td>95.0</td>\n",
       "      <td>1/23/2014</td>\n",
       "      <td>United States</td>\n",
       "      <td>San Francisco</td>\n",
       "      <td>Fintech</td>\n",
       "      <td>Khosla Ventures, LowercaseCapital, capitalG</td>\n",
       "      <td>2010</td>\n",
       "      <td>2901000.0</td>\n",
       "      <td>Asset</td>\n",
       "      <td>39.0</td>\n",
       "      <td>12.0</td>\n",
       "      <td>1</td>\n",
       "      <td>2014</td>\n",
       "    </tr>\n",
       "    <tr>\n",
       "      <th>3</th>\n",
       "      <td>Klarna</td>\n",
       "      <td>45.6</td>\n",
       "      <td>12/12/2011</td>\n",
       "      <td>Sweden</td>\n",
       "      <td>Stockholm</td>\n",
       "      <td>Fintech</td>\n",
       "      <td>Institutional Venture Partners, Sequoia Capita...</td>\n",
       "      <td>2005</td>\n",
       "      <td>3472000.0</td>\n",
       "      <td>Acquired</td>\n",
       "      <td>56.0</td>\n",
       "      <td>13.0</td>\n",
       "      <td>1</td>\n",
       "      <td>2011</td>\n",
       "    </tr>\n",
       "    <tr>\n",
       "      <th>4</th>\n",
       "      <td>Epic Games</td>\n",
       "      <td>42.0</td>\n",
       "      <td>10/26/2018</td>\n",
       "      <td>United States</td>\n",
       "      <td>Cary</td>\n",
       "      <td>Other</td>\n",
       "      <td>Tencent Holdings, KKR, Smash Ventures</td>\n",
       "      <td>1991</td>\n",
       "      <td>4377000.0</td>\n",
       "      <td>Acquired</td>\n",
       "      <td>25.0</td>\n",
       "      <td>5.0</td>\n",
       "      <td>2</td>\n",
       "      <td>2018</td>\n",
       "    </tr>\n",
       "  </tbody>\n",
       "</table>\n",
       "</div>"
      ],
      "text/plain": [
       "      Company  Valuation ($B) Date Joined        Country           City  \\\n",
       "0   Bytedance           140.0    4/7/2017          China        Beijing   \n",
       "1      SpaceX           100.3   12/1/2012  United States      Hawthorne   \n",
       "2      Stripe            95.0   1/23/2014  United States  San Francisco   \n",
       "3      Klarna            45.6  12/12/2011         Sweden      Stockholm   \n",
       "4  Epic Games            42.0  10/26/2018  United States           Cary   \n",
       "\n",
       "                  Industry                                   Select Investors  \\\n",
       "0  Artificial Intelligence  Sequoia Capital China, SIG Asia Investments, S...   \n",
       "1                    Other  Founders Fund, Draper Fisher Jurvetson, Rothen...   \n",
       "2                  Fintech        Khosla Ventures, LowercaseCapital, capitalG   \n",
       "3                  Fintech  Institutional Venture Partners, Sequoia Capita...   \n",
       "4                    Other              Tencent Holdings, KKR, Smash Ventures   \n",
       "\n",
       "  Founded Year  Total Raised ($K) Financial Stage  Investors Count  \\\n",
       "0         2012          7440000.0             IPO             28.0   \n",
       "1         2002          6874000.0            None             29.0   \n",
       "2         2010          2901000.0           Asset             39.0   \n",
       "3         2005          3472000.0        Acquired             56.0   \n",
       "4         1991          4377000.0        Acquired             25.0   \n",
       "\n",
       "   Deal Terms Portfolio Exits  Year Joined  \n",
       "0         8.0               5         2017  \n",
       "1        12.0            None         2012  \n",
       "2        12.0               1         2014  \n",
       "3        13.0               1         2011  \n",
       "4         5.0               2         2018  "
      ]
     },
     "execution_count": 276,
     "metadata": {},
     "output_type": "execute_result"
    }
   ],
   "source": [
    "unicorn.head()"
   ]
  },
  {
   "cell_type": "markdown",
   "id": "2997c466",
   "metadata": {},
   "source": [
    "## Exploring data and generating questions"
   ]
  },
  {
   "cell_type": "code",
   "execution_count": 277,
   "id": "db7a04f8",
   "metadata": {},
   "outputs": [
    {
     "data": {
      "text/plain": [
       "Text(0.5, 0, 'Count of unicorn companies')"
      ]
     },
     "execution_count": 277,
     "metadata": {},
     "output_type": "execute_result"
    },
    {
     "data": {
      "image/png": "[encoded data removed]",
      "text/plain": [
       "<Figure size 504x360 with 1 Axes>"
      ]
     },
     "metadata": {
      "needs_background": "light"
     },
     "output_type": "display_data"
    }
   ],
   "source": [
    "# Which industry has most unicorns?\n",
    "plt.figure(figsize = (7,5))\n",
    "base_color = sb.color_palette()[0]\n",
    "sb.countplot(data = unicorn, y = 'Industry', order= unicorn['Industry'].value_counts().index, color=base_color)\n",
    "plt.xlabel('Count of unicorn companies')"
   ]
  },
  {
   "cell_type": "code",
   "execution_count": 278,
   "id": "b8eac9fb",
   "metadata": {},
   "outputs": [
    {
     "data": {
      "text/html": [
       "<div>\n",
       "<style scoped>\n",
       "    .dataframe tbody tr th:only-of-type {\n",
       "        vertical-align: middle;\n",
       "    }\n",
       "\n",
       "    .dataframe tbody tr th {\n",
       "        vertical-align: top;\n",
       "    }\n",
       "\n",
       "    .dataframe thead th {\n",
       "        text-align: right;\n",
       "    }\n",
       "</style>\n",
       "<table border=\"1\" class=\"dataframe\">\n",
       "  <thead>\n",
       "    <tr style=\"text-align: right;\">\n",
       "      <th></th>\n",
       "      <th>Industry</th>\n",
       "      <th>Proportion_China</th>\n",
       "      <th>Proportion_US</th>\n",
       "      <th>Proportion_difference</th>\n",
       "    </tr>\n",
       "  </thead>\n",
       "  <tbody>\n",
       "    <tr>\n",
       "      <th>0</th>\n",
       "      <td>E-commerce &amp; direct-to-consumer</td>\n",
       "      <td>0.172619</td>\n",
       "      <td>0.055970</td>\n",
       "      <td>0.116649</td>\n",
       "    </tr>\n",
       "    <tr>\n",
       "      <th>1</th>\n",
       "      <td>Artificial Intelligence</td>\n",
       "      <td>0.113095</td>\n",
       "      <td>0.080224</td>\n",
       "      <td>0.032871</td>\n",
       "    </tr>\n",
       "    <tr>\n",
       "      <th>2</th>\n",
       "      <td>Hardware</td>\n",
       "      <td>0.101190</td>\n",
       "      <td>0.018657</td>\n",
       "      <td>0.082534</td>\n",
       "    </tr>\n",
       "    <tr>\n",
       "      <th>3</th>\n",
       "      <td>Auto &amp; transportation</td>\n",
       "      <td>0.101190</td>\n",
       "      <td>0.005597</td>\n",
       "      <td>0.095593</td>\n",
       "    </tr>\n",
       "    <tr>\n",
       "      <th>4</th>\n",
       "      <td>Mobile &amp; telecommunications</td>\n",
       "      <td>0.083333</td>\n",
       "      <td>0.022388</td>\n",
       "      <td>0.060945</td>\n",
       "    </tr>\n",
       "  </tbody>\n",
       "</table>\n",
       "</div>"
      ],
      "text/plain": [
       "                          Industry  Proportion_China  Proportion_US  \\\n",
       "0  E-commerce & direct-to-consumer          0.172619       0.055970   \n",
       "1          Artificial Intelligence          0.113095       0.080224   \n",
       "2                         Hardware          0.101190       0.018657   \n",
       "3            Auto & transportation          0.101190       0.005597   \n",
       "4      Mobile & telecommunications          0.083333       0.022388   \n",
       "\n",
       "   Proportion_difference  \n",
       "0               0.116649  \n",
       "1               0.032871  \n",
       "2               0.082534  \n",
       "3               0.095593  \n",
       "4               0.060945  "
      ]
     },
     "execution_count": 278,
     "metadata": {},
     "output_type": "execute_result"
    }
   ],
   "source": [
    "unicorn_subset = unicorn.loc[unicorn['Country'].isin(['China', 'United States'])]\n",
    "unicorn_industry_china = unicorn.loc[unicorn['Country'] == 'China']\n",
    "industry_count_china = unicorn_industry_china['Industry'].value_counts()\n",
    "china_prop = industry_count_china.values /industry_count_china.sum()\n",
    "china_prop_df = pd.DataFrame({'Industry': industry_count_china.index, 'Proportion_China': china_prop})\n",
    "china_prop_df.head()\n",
    "\n",
    "unicorn_industry_us = unicorn.loc[unicorn['Country'] == 'United States']\n",
    "industry_count_us = unicorn_industry_us['Industry'].value_counts()\n",
    "us_prop = industry_count_us.values /industry_count_us.sum()\n",
    "us_prop_df = pd.DataFrame({'Industry': industry_count_us.index, 'Proportion_US': us_prop})\n",
    "us_prop_df.head()\n",
    "\n",
    "prop_combined = pd.merge(china_prop_df, us_prop_df, on = 'Industry')\n",
    "prop_combined['Proportion_difference'] = prop_combined['Proportion_China'] - prop_combined['Proportion_US'] \n",
    "prop_combined.head()\n"
   ]
  },
  {
   "cell_type": "code",
   "execution_count": 279,
   "id": "72e98b59",
   "metadata": {},
   "outputs": [],
   "source": [
    "order = prop_combined.sort_values('Proportion_difference')['Industry']"
   ]
  },
  {
   "cell_type": "code",
   "execution_count": 280,
   "id": "cc2474d1",
   "metadata": {
    "scrolled": true
   },
   "outputs": [
    {
     "data": {
      "image/png": "[encoded data removed]",
      "text/plain": [
       "<Figure size 432x288 with 1 Axes>"
      ]
     },
     "metadata": {
      "needs_background": "light"
     },
     "output_type": "display_data"
    }
   ],
   "source": [
    "sb.barplot(data = prop_combined, y = 'Industry', x = 'Proportion_difference', order= order, color = base_color);\n",
    "plt.xlabel('Proportion difference (China - United States)');"
   ]
  },
  {
   "cell_type": "code",
   "execution_count": 281,
   "id": "538a6cbb",
   "metadata": {},
   "outputs": [
    {
     "data": {
      "text/plain": [
       "array([0.26679104, 0.20335821, 0.09328358, 0.08022388, 0.07089552,\n",
       "       0.05783582, 0.05597015, 0.05223881, 0.03731343, 0.02238806,\n",
       "       0.02052239, 0.01865672, 0.0130597 , 0.00559701, 0.00186567])"
      ]
     },
     "execution_count": 281,
     "metadata": {},
     "output_type": "execute_result"
    }
   ],
   "source": [
    "us_prop"
   ]
  },
  {
   "cell_type": "code",
   "execution_count": 282,
   "id": "09a840fa",
   "metadata": {},
   "outputs": [
    {
     "data": {
      "text/plain": [
       "count     994.000000\n",
       "mean     2012.710262\n",
       "std         5.942876\n",
       "min      1919.000000\n",
       "25%      2011.000000\n",
       "50%      2014.000000\n",
       "75%      2016.000000\n",
       "max      2021.000000\n",
       "Name: Founded Year, dtype: float64"
      ]
     },
     "execution_count": 282,
     "metadata": {},
     "output_type": "execute_result"
    }
   ],
   "source": [
    "unicorn['Founded Year'].unique()\n",
    "unicorn['Founded Year'].replace({'None':np.nan}, inplace = True)\n",
    "unicorn['Founded Year'] = unicorn['Founded Year'].astype(float)\n",
    "unicorn['Founded Year'].describe()"
   ]
  },
  {
   "cell_type": "code",
   "execution_count": 283,
   "id": "cdcc5c6c",
   "metadata": {},
   "outputs": [],
   "source": [
    "unicorn['Year until unicorn'] = unicorn['Year Joined'] - unicorn['Founded Year']"
   ]
  },
  {
   "cell_type": "code",
   "execution_count": 284,
   "id": "3542e1c2",
   "metadata": {},
   "outputs": [
    {
     "data": {
      "text/plain": [
       "Text(0, 0.5, 'Count of unicorn companies')"
      ]
     },
     "execution_count": 284,
     "metadata": {},
     "output_type": "execute_result"
    },
    {
     "data": {
      "image/png": "[encoded data removed]",
      "text/plain": [
       "<Figure size 432x288 with 1 Axes>"
      ]
     },
     "metadata": {
      "needs_background": "light"
     },
     "output_type": "display_data"
    }
   ],
   "source": [
    "#When were the unicorn companies founded?\n",
    "bins = np.arange(1919, 2021, 3)\n",
    "plt.hist(data = unicorn, x = 'Founded Year', bins =bins);\n",
    "plt.xticks(rotation = 300);\n",
    "tick_pos = np.arange(1919, 2021, 5)\n",
    "tick_names = ['{:0.0f}'.format(v) for v in tick_pos]\n",
    "plt.xticks(tick_pos, tick_names);\n",
    "plt.xlabel('Founded Year')\n",
    "plt.ylabel('Count of unicorn companies')"
   ]
  },
  {
   "cell_type": "code",
   "execution_count": 285,
   "id": "fbe69c05",
   "metadata": {
    "scrolled": true
   },
   "outputs": [
    {
     "data": {
      "image/png": "[encoded data removed]",
      "text/plain": [
       "<Figure size 432x288 with 1 Axes>"
      ]
     },
     "metadata": {},
     "output_type": "display_data"
    }
   ],
   "source": [
    "# Where are the unicorn companies?\n",
    "sorted_counts = unicorn['Country'].value_counts()\n",
    "other = pd.Series([sorted_counts[[not x for x in sorted_counts.index.isin(sorted_counts[:10].index)]].sum()], index = ['Other'])\n",
    "show_counts = sorted_counts[:10]\n",
    "show_counts = show_counts.append(other)\n",
    "\n",
    "plt.pie(show_counts, labels = ['{}'.format(v) for v in show_counts.index], startangle = 90, counterclock = False, wedgeprops = {'width' : 0.4},\n",
    "       colors = sb.color_palette(\"tab20\"));\n",
    "plt.legend(bbox_to_anchor=(2,1));\n",
    "plt.axis('square');"
   ]
  },
  {
   "cell_type": "code",
   "execution_count": 286,
   "id": "89183bbf",
   "metadata": {},
   "outputs": [
    {
     "data": {
      "text/plain": [
       "Int64Index([   0,    1,    2,    3,    4,    5,    6,    7,    8,    9,\n",
       "            ...\n",
       "             867,  868,  869,  870,  871,  872,  873,  874,  875, 1036],\n",
       "           dtype='int64', length=1037)"
      ]
     },
     "execution_count": 286,
     "metadata": {},
     "output_type": "execute_result"
    }
   ],
   "source": [
    "#Top 10 unicorn companies with highest valuation from China\n",
    "unicorn['Valuation ($B)'].describe()\n",
    "sorted_rows = unicorn['Valuation ($B)'].sort_values(ascending=False).index\n",
    "sorted_rows"
   ]
  },
  {
   "cell_type": "code",
   "execution_count": 287,
   "id": "dd1ad614",
   "metadata": {},
   "outputs": [],
   "source": [
    "unicorn_sortvaluation = unicorn.loc[sorted_rows]"
   ]
  },
  {
   "cell_type": "code",
   "execution_count": 288,
   "id": "fd698f81",
   "metadata": {},
   "outputs": [],
   "source": [
    "SMALL_SIZE = 8\n",
    "MEDIUM_SIZE = 10\n",
    "BIGGER_SIZE = 12\n",
    "\n",
    "plt.rc('font', size=BIGGER_SIZE)          # controls default text sizes\n",
    "plt.rc('axes', titlesize=BIGGER_SIZE)     # fontsize of the axes title\n",
    "plt.rc('axes', labelsize=BIGGER_SIZE)    # fontsize of the x and y labels\n",
    "plt.rc('xtick', labelsize=BIGGER_SIZE)    # fontsize of the tick labels\n",
    "plt.rc('ytick', labelsize=BIGGER_SIZE)    # fontsize of the tick labels\n",
    "plt.rc('legend', fontsize=BIGGER_SIZE)    # legend fontsize\n",
    "plt.rc('figure', titlesize=BIGGER_SIZE)  # fontsize of the figure title"
   ]
  },
  {
   "cell_type": "code",
   "execution_count": 289,
   "id": "99adba39",
   "metadata": {},
   "outputs": [
    {
     "data": {
      "image/png": "[encoded data removed]",
      "text/plain": [
       "<Figure size 1440x576 with 2 Axes>"
      ]
     },
     "metadata": {
      "needs_background": "light"
     },
     "output_type": "display_data"
    }
   ],
   "source": [
    "plt.figure(figsize = [20, 8])\n",
    "base_color = sb.color_palette()[0]\n",
    "# left\n",
    "plt.subplot(1, 2, 1)\n",
    "unicorn_10China = unicorn_sortvaluation.loc[unicorn_sortvaluation['Country'] == 'China'][:10]\n",
    "unicorn_10China\n",
    "sb.barplot(data = unicorn_10China, y = 'Company', x = 'Valuation ($B)', color = base_color);\n",
    "plt.title('10 most valuable unicorn companies in China')\n",
    "\n",
    "# right\n",
    "plt.subplot(1, 2, 2)\n",
    "unicorn_10US = unicorn_sortvaluation.loc[unicorn_sortvaluation['Country'] == 'United States'][:10]\n",
    "unicorn_10US\n",
    "sb.barplot(data = unicorn_10US, y = 'Company', x = 'Valuation ($B)', color = base_color);\n",
    "plt.title('10 most valuable unicorn companies in the United States')\n",
    "g = plt.show()"
   ]
  },
  {
   "cell_type": "code",
   "execution_count": 290,
   "id": "8ae34499",
   "metadata": {},
   "outputs": [
    {
     "data": {
      "text/html": [
       "<div>\n",
       "<style scoped>\n",
       "    .dataframe tbody tr th:only-of-type {\n",
       "        vertical-align: middle;\n",
       "    }\n",
       "\n",
       "    .dataframe tbody tr th {\n",
       "        vertical-align: top;\n",
       "    }\n",
       "\n",
       "    .dataframe thead th {\n",
       "        text-align: right;\n",
       "    }\n",
       "</style>\n",
       "<table border=\"1\" class=\"dataframe\">\n",
       "  <thead>\n",
       "    <tr style=\"text-align: right;\">\n",
       "      <th></th>\n",
       "      <th>Company</th>\n",
       "      <th>Valuation ($B)</th>\n",
       "      <th>Country</th>\n",
       "      <th>Industry</th>\n",
       "    </tr>\n",
       "  </thead>\n",
       "  <tbody>\n",
       "    <tr>\n",
       "      <th>13</th>\n",
       "      <td>BYJU's</td>\n",
       "      <td>21.00</td>\n",
       "      <td>India</td>\n",
       "      <td>Edtech</td>\n",
       "    </tr>\n",
       "    <tr>\n",
       "      <th>40</th>\n",
       "      <td>Swiggy</td>\n",
       "      <td>10.70</td>\n",
       "      <td>India</td>\n",
       "      <td>Supply chain, logistics, &amp; delivery</td>\n",
       "    </tr>\n",
       "    <tr>\n",
       "      <th>6</th>\n",
       "      <td>Checkout.com</td>\n",
       "      <td>40.00</td>\n",
       "      <td>United Kingdom</td>\n",
       "      <td>Fintech</td>\n",
       "    </tr>\n",
       "    <tr>\n",
       "      <th>9</th>\n",
       "      <td>Revolut</td>\n",
       "      <td>33.00</td>\n",
       "      <td>United Kingdom</td>\n",
       "      <td>Fintech</td>\n",
       "    </tr>\n",
       "    <tr>\n",
       "      <th>36</th>\n",
       "      <td>Celonis</td>\n",
       "      <td>11.00</td>\n",
       "      <td>Germany</td>\n",
       "      <td>Data management &amp; analytics</td>\n",
       "    </tr>\n",
       "    <tr>\n",
       "      <th>52</th>\n",
       "      <td>N26</td>\n",
       "      <td>9.23</td>\n",
       "      <td>Germany</td>\n",
       "      <td>Fintech</td>\n",
       "    </tr>\n",
       "    <tr>\n",
       "      <th>113</th>\n",
       "      <td>Back Market</td>\n",
       "      <td>5.70</td>\n",
       "      <td>France</td>\n",
       "      <td>E-commerce &amp; direct-to-consumer</td>\n",
       "    </tr>\n",
       "    <tr>\n",
       "      <th>139</th>\n",
       "      <td>Qonto</td>\n",
       "      <td>5.00</td>\n",
       "      <td>France</td>\n",
       "      <td>Fintech</td>\n",
       "    </tr>\n",
       "    <tr>\n",
       "      <th>103</th>\n",
       "      <td>Wiz</td>\n",
       "      <td>6.00</td>\n",
       "      <td>Israel</td>\n",
       "      <td>Cybersecurity</td>\n",
       "    </tr>\n",
       "    <tr>\n",
       "      <th>136</th>\n",
       "      <td>Moon Active</td>\n",
       "      <td>5.00</td>\n",
       "      <td>Israel</td>\n",
       "      <td>Mobile &amp; telecommunications</td>\n",
       "    </tr>\n",
       "  </tbody>\n",
       "</table>\n",
       "</div>"
      ],
      "text/plain": [
       "          Company  Valuation ($B)         Country  \\\n",
       "13         BYJU's           21.00           India   \n",
       "40         Swiggy           10.70           India   \n",
       "6    Checkout.com           40.00  United Kingdom   \n",
       "9         Revolut           33.00  United Kingdom   \n",
       "36        Celonis           11.00         Germany   \n",
       "52            N26            9.23         Germany   \n",
       "113   Back Market            5.70          France   \n",
       "139         Qonto            5.00          France   \n",
       "103           Wiz            6.00          Israel   \n",
       "136   Moon Active            5.00          Israel   \n",
       "\n",
       "                                Industry  \n",
       "13                                Edtech  \n",
       "40   Supply chain, logistics, & delivery  \n",
       "6                                Fintech  \n",
       "9                                Fintech  \n",
       "36           Data management & analytics  \n",
       "52                               Fintech  \n",
       "113      E-commerce & direct-to-consumer  \n",
       "139                              Fintech  \n",
       "103                        Cybersecurity  \n",
       "136          Mobile & telecommunications  "
      ]
     },
     "execution_count": 290,
     "metadata": {},
     "output_type": "execute_result"
    }
   ],
   "source": [
    "# 2 most valuable unicorn companies in other countries\n",
    "mv_companies2 =pd.DataFrame([])\n",
    "for country in ['India', 'United Kingdom', 'Germany', 'France', 'Israel']:\n",
    "    mv_companies2 = pd.concat([mv_companies2, unicorn_sortvaluation.loc[unicorn_sortvaluation['Country'] == country][:2]])\n",
    "mv_companies2[['Company','Valuation ($B)', 'Country', 'Industry']]                              \n"
   ]
  },
  {
   "cell_type": "code",
   "execution_count": 291,
   "id": "bebfe5a2",
   "metadata": {},
   "outputs": [
    {
     "data": {
      "text/plain": [
       "{'SIG Asia Investments': 1}"
      ]
     },
     "execution_count": 291,
     "metadata": {},
     "output_type": "execute_result"
    }
   ],
   "source": [
    "# maybe we can copy the most successful investors in investing unicorn companies\n",
    "investors = {}\n",
    "item = unicorn['Select Investors'][0].split(', ')[0]\n",
    "item = 'SIG Asia Investments'\n",
    "investors['SIG Asia Investments'] =  1\n",
    "investors\n"
   ]
  },
  {
   "cell_type": "code",
   "execution_count": 292,
   "id": "fc8334af",
   "metadata": {},
   "outputs": [
    {
     "data": {
      "text/plain": [
       "{'SIG Asia Investments': 2,\n",
       " 'Sequoia Capital China': 1,\n",
       " 'Sina Weibo': 1,\n",
       " 'Softbank Group': 1}"
      ]
     },
     "execution_count": 292,
     "metadata": {},
     "output_type": "execute_result"
    }
   ],
   "source": [
    "items = unicorn['Select Investors'][0].split(', ')\n",
    "for item in items:\n",
    "    if not item in investors:\n",
    "        investors[item] =  1\n",
    "    elif item in investors:\n",
    "        investors[item] =  investors[item] +1\n",
    "        \n",
    "investors"
   ]
  },
  {
   "cell_type": "code",
   "execution_count": 293,
   "id": "a54bc98b",
   "metadata": {},
   "outputs": [],
   "source": [
    "# Which investor invested the most unicorn companies in China and in the United States?\n",
    "def get_investors(select_investors):\n",
    "    investors = {}\n",
    "    for cell in select_investors:\n",
    "        items = cell.split(', ')\n",
    "        for item in items:\n",
    "            if not item in investors:\n",
    "                investors[item] =  1\n",
    "            elif item in investors:\n",
    "                investors[item] = investors[item] +1\n",
    "    investors_df = pd.DataFrame(list(investors.items()),columns = ['Investor','Count'])\n",
    "    investors_df = investors_df.sort_values('Count', ascending=False)\n",
    "    return investors_df"
   ]
  },
  {
   "cell_type": "code",
   "execution_count": 294,
   "id": "69e3f316",
   "metadata": {},
   "outputs": [
    {
     "data": {
      "text/html": [
       "<div>\n",
       "<style scoped>\n",
       "    .dataframe tbody tr th:only-of-type {\n",
       "        vertical-align: middle;\n",
       "    }\n",
       "\n",
       "    .dataframe tbody tr th {\n",
       "        vertical-align: top;\n",
       "    }\n",
       "\n",
       "    .dataframe thead th {\n",
       "        text-align: right;\n",
       "    }\n",
       "</style>\n",
       "<table border=\"1\" class=\"dataframe\">\n",
       "  <thead>\n",
       "    <tr style=\"text-align: right;\">\n",
       "      <th></th>\n",
       "      <th>Investor</th>\n",
       "      <th>Count</th>\n",
       "    </tr>\n",
       "  </thead>\n",
       "  <tbody>\n",
       "    <tr>\n",
       "      <th>0</th>\n",
       "      <td>Sequoia Capital China</td>\n",
       "      <td>36</td>\n",
       "    </tr>\n",
       "    <tr>\n",
       "      <th>7</th>\n",
       "      <td>Tencent Holdings</td>\n",
       "      <td>17</td>\n",
       "    </tr>\n",
       "    <tr>\n",
       "      <th>9</th>\n",
       "      <td>IDG Capital</td>\n",
       "      <td>17</td>\n",
       "    </tr>\n",
       "    <tr>\n",
       "      <th>50</th>\n",
       "      <td>Qiming Venture Partners</td>\n",
       "      <td>11</td>\n",
       "    </tr>\n",
       "    <tr>\n",
       "      <th>91</th>\n",
       "      <td>Matrix Partners China</td>\n",
       "      <td>10</td>\n",
       "    </tr>\n",
       "  </tbody>\n",
       "</table>\n",
       "</div>"
      ],
      "text/plain": [
       "                   Investor  Count\n",
       "0     Sequoia Capital China     36\n",
       "7          Tencent Holdings     17\n",
       "9               IDG Capital     17\n",
       "50  Qiming Venture Partners     11\n",
       "91    Matrix Partners China     10"
      ]
     },
     "execution_count": 294,
     "metadata": {},
     "output_type": "execute_result"
    }
   ],
   "source": [
    "investor_china = get_investors(unicorn[unicorn['Country'] == 'China']['Select Investors'])\n",
    "investor_china.head()"
   ]
  },
  {
   "cell_type": "code",
   "execution_count": 295,
   "id": "1cce47b5",
   "metadata": {},
   "outputs": [
    {
     "data": {
      "text/html": [
       "<div>\n",
       "<style scoped>\n",
       "    .dataframe tbody tr th:only-of-type {\n",
       "        vertical-align: middle;\n",
       "    }\n",
       "\n",
       "    .dataframe tbody tr th {\n",
       "        vertical-align: top;\n",
       "    }\n",
       "\n",
       "    .dataframe thead th {\n",
       "        text-align: right;\n",
       "    }\n",
       "</style>\n",
       "<table border=\"1\" class=\"dataframe\">\n",
       "  <thead>\n",
       "    <tr style=\"text-align: right;\">\n",
       "      <th></th>\n",
       "      <th>Investor</th>\n",
       "      <th>Count</th>\n",
       "    </tr>\n",
       "  </thead>\n",
       "  <tbody>\n",
       "    <tr>\n",
       "      <th>11</th>\n",
       "      <td>Andreessen Horowitz</td>\n",
       "      <td>39</td>\n",
       "    </tr>\n",
       "    <tr>\n",
       "      <th>19</th>\n",
       "      <td>Accel</td>\n",
       "      <td>33</td>\n",
       "    </tr>\n",
       "    <tr>\n",
       "      <th>36</th>\n",
       "      <td>Sequoia Capital</td>\n",
       "      <td>33</td>\n",
       "    </tr>\n",
       "    <tr>\n",
       "      <th>40</th>\n",
       "      <td>Tiger Global Management</td>\n",
       "      <td>28</td>\n",
       "    </tr>\n",
       "    <tr>\n",
       "      <th>115</th>\n",
       "      <td>Insight Partners</td>\n",
       "      <td>27</td>\n",
       "    </tr>\n",
       "  </tbody>\n",
       "</table>\n",
       "</div>"
      ],
      "text/plain": [
       "                    Investor  Count\n",
       "11       Andreessen Horowitz     39\n",
       "19                     Accel     33\n",
       "36           Sequoia Capital     33\n",
       "40   Tiger Global Management     28\n",
       "115         Insight Partners     27"
      ]
     },
     "execution_count": 295,
     "metadata": {},
     "output_type": "execute_result"
    }
   ],
   "source": [
    "investor_us = get_investors(unicorn[unicorn['Country'] == 'United States']['Select Investors'])\n",
    "investor_us.head()"
   ]
  },
  {
   "cell_type": "code",
   "execution_count": 296,
   "id": "e83382c2",
   "metadata": {},
   "outputs": [
    {
     "data": {
      "text/plain": [
       "array(['IPO', 'Acquired', 'None', 'Divestiture'], dtype=object)"
      ]
     },
     "execution_count": 296,
     "metadata": {},
     "output_type": "execute_result"
    }
   ],
   "source": [
    "invested_by_SC = lambda x: ('Sequoia Capital' in x) or ('Sequoia Capital China' in x)\n",
    "unicorn_invested_by_SC = unicorn.loc[unicorn['Select Investors'].apply(invested_by_SC)]\n",
    "unicorn_invested_by_SC['Financial Stage'].unique()"
   ]
  },
  {
   "cell_type": "code",
   "execution_count": 297,
   "id": "4fd729f3",
   "metadata": {},
   "outputs": [
    {
     "data": {
      "text/html": [
       "<div>\n",
       "<style scoped>\n",
       "    .dataframe tbody tr th:only-of-type {\n",
       "        vertical-align: middle;\n",
       "    }\n",
       "\n",
       "    .dataframe tbody tr th {\n",
       "        vertical-align: top;\n",
       "    }\n",
       "\n",
       "    .dataframe thead th {\n",
       "        text-align: right;\n",
       "    }\n",
       "</style>\n",
       "<table border=\"1\" class=\"dataframe\">\n",
       "  <thead>\n",
       "    <tr style=\"text-align: right;\">\n",
       "      <th></th>\n",
       "      <th>Company</th>\n",
       "      <th>Valuation ($B)</th>\n",
       "      <th>Date Joined</th>\n",
       "      <th>Country</th>\n",
       "      <th>Industry</th>\n",
       "    </tr>\n",
       "  </thead>\n",
       "  <tbody>\n",
       "    <tr>\n",
       "      <th>103</th>\n",
       "      <td>Wiz</td>\n",
       "      <td>6.0</td>\n",
       "      <td>3/17/2021</td>\n",
       "      <td>Israel</td>\n",
       "      <td>Cybersecurity</td>\n",
       "    </tr>\n",
       "    <tr>\n",
       "      <th>418</th>\n",
       "      <td>Ethos</td>\n",
       "      <td>2.7</td>\n",
       "      <td>5/11/2021</td>\n",
       "      <td>United States</td>\n",
       "      <td>Fintech</td>\n",
       "    </tr>\n",
       "    <tr>\n",
       "      <th>697</th>\n",
       "      <td>SmartMore</td>\n",
       "      <td>1.2</td>\n",
       "      <td>6/24/2021</td>\n",
       "      <td>China</td>\n",
       "      <td>Artificial Intelligence</td>\n",
       "    </tr>\n",
       "    <tr>\n",
       "      <th>758</th>\n",
       "      <td>apna</td>\n",
       "      <td>1.1</td>\n",
       "      <td>9/15/2021</td>\n",
       "      <td>India</td>\n",
       "      <td>Internet software &amp; services</td>\n",
       "    </tr>\n",
       "    <tr>\n",
       "      <th>862</th>\n",
       "      <td>Playco</td>\n",
       "      <td>1.0</td>\n",
       "      <td>9/21/2020</td>\n",
       "      <td>Japan</td>\n",
       "      <td>Other</td>\n",
       "    </tr>\n",
       "    <tr>\n",
       "      <th>893</th>\n",
       "      <td>Fiture</td>\n",
       "      <td>1.0</td>\n",
       "      <td>4/14/2021</td>\n",
       "      <td>China</td>\n",
       "      <td>Health</td>\n",
       "    </tr>\n",
       "  </tbody>\n",
       "</table>\n",
       "</div>"
      ],
      "text/plain": [
       "       Company  Valuation ($B) Date Joined        Country  \\\n",
       "103        Wiz             6.0   3/17/2021         Israel   \n",
       "418      Ethos             2.7   5/11/2021  United States   \n",
       "697  SmartMore             1.2   6/24/2021          China   \n",
       "758       apna             1.1   9/15/2021          India   \n",
       "862     Playco             1.0   9/21/2020          Japan   \n",
       "893     Fiture             1.0   4/14/2021          China   \n",
       "\n",
       "                         Industry  \n",
       "103                 Cybersecurity  \n",
       "418                       Fintech  \n",
       "697       Artificial Intelligence  \n",
       "758  Internet software & services  \n",
       "862                         Other  \n",
       "893                        Health  "
      ]
     },
     "execution_count": 297,
     "metadata": {},
     "output_type": "execute_result"
    }
   ],
   "source": [
    "unicorn_invested_by_SC2019 = unicorn_invested_by_SC[unicorn_invested_by_SC['Founded Year' ] > 2018]\n",
    "unicorn_invested_by_SC2019[['Company', 'Valuation ($B)', 'Date Joined', 'Country', 'Industry']]"
   ]
  },
  {
   "cell_type": "code",
   "execution_count": 298,
   "id": "c20f0184",
   "metadata": {},
   "outputs": [],
   "source": [
    "unicorn.to_csv('./unicorn_companies_clean.csv')"
   ]
  },
  {
   "cell_type": "code",
   "execution_count": null,
   "id": "712a3466",
   "metadata": {},
   "outputs": [],
   "source": []
  }
 ],
 "metadata": {
  "kernelspec": {
   "display_name": "Python 3",
   "language": "python",
   "name": "python3"
  },
  "language_info": {
   "codemirror_mode": {
    "name": "ipython",
    "version": 3
   },
   "file_extension": ".py",
   "mimetype": "text/x-python",
   "name": "python",
   "nbconvert_exporter": "python",
   "pygments_lexer": "ipython3",
   "version": "3.8.8"
  }
 },
 "nbformat": 4,
 "nbformat_minor": 5
}
